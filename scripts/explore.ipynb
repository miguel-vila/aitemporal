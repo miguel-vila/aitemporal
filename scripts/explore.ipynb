{
 "cells": [
  {
   "cell_type": "code",
   "execution_count": 34,
   "id": "ee6ddc31-8947-4cfd-859c-b4f0fa9bc851",
   "metadata": {},
   "outputs": [],
   "source": [
    "from youtube_transcript_api import YouTubeTranscriptApi\n",
    "import yt_dlp\n",
    "\n",
    "ytt_api = YouTubeTranscriptApi()\n",
    "\n",
    "transcript = ytt_api.fetch('c4-DIbtNg54', languages = [\"es\"])"
   ]
  },
  {
   "cell_type": "code",
   "execution_count": 35,
   "id": "045be211-c61e-44d6-a46d-14ac5bc69497",
   "metadata": {},
   "outputs": [],
   "source": [
    "\n",
    "# ' '.join([t.text for t in transcript.snippets])\n",
    "# transcript.snippets[0]\n",
    "\n",
    "channel_url='https://www.youtube.com/@atemporalpodcast/videos'\n",
    "\n",
    "ydl_opts = {\n",
    "    \"quiet\": True,\n",
    "    \"extract_flat\": True,   # don't download, just get metadata\n",
    "    \"skip_download\": True,\n",
    "}\n",
    "\n",
    "with yt_dlp.YoutubeDL(ydl_opts) as ydl:\n",
    "    channel_info = ydl.extract_info(channel_url, download=False)\n",
    "\n",
    "    # Depending on URL, you may need /videos\n",
    "    # info[\"entries\"] contains all videos in the channel\n",
    "    # [print(f'keys:{entry.keys()}') for entry in info[\"entries\"]]\n",
    "    # video_ids = [entry[\"id\"] for entry in info[\"entries\"] if entry.get(\"id\")]\n",
    "    # print(video_ids)\n",
    "\n",
    "# len(transcript)"
   ]
  },
  {
   "cell_type": "code",
   "execution_count": 36,
   "id": "6c16e28a-feb7-4a9d-aac6-97de1c50c8e8",
   "metadata": {},
   "outputs": [
    {
     "data": {
      "text/plain": [
       "'Colombia es un país mucho más de servicios que campesino. Ahora sigue con una percepción campesina porque seguimos reforzando la gente que el futuro es estar en el campo, que la gente no, el futuro no está en el campo, que es distinto a que Colombia tenga oportunidades agroindustriales muy grandes, que es otra cosa también. Entonces, todo eso es reidentificarnos, una identidad emergente para desde ella abordar la nueva era y jugar a ganar. Alejandro Salazar tiene un doctorado en ingeniería industrial. Ha sido consultor empresarial y autor del libro La estrategia emergente. Acaba de publicar Colombia ganadora, en el que plantea una estrategia emergente para Colombia. ¿Quiere esto decir que el presidente queita este país es argentino? Creo que tenemos la mejor caricatura de Petro. Es un tipo que le busca problemas a las soluciones. Pues eso nos pasa en todos los niveles. Ha pasado, ¿cierto? No, en Bogotá nos pasa en fútbol. Nosotros no sabemos ganar. Siempre nos pasa, César, con selecciones, con clubes, nos pas ¿Cómo es una tortura de partido de fútbol de Colombia? Colombia si puede golear, no golear, mete apenas un golcito y más o menos en el minuto 90, 92 nos empatan o nos ganan. Lo veo en las compañías, a mí me ha tocado ver unas cosas terribles. Una compañía que lleva una década mirabilis y entonces los dueños dicen, \"No, en este momento sí necesitamos un gerente global porque y entonces la coma se la tiran.\" ¿Sí me entiendes?'"
      ]
     },
     "execution_count": 36,
     "metadata": {},
     "output_type": "execute_result"
    }
   ],
   "source": [
    "url = channel_info[\"entries\"][0]\n",
    "# channel_info[\"entries\"][0]\n",
    "# with yt_dlp.YoutubeDL(ydl_opts) as ydl:\n",
    "#     info = ydl.extract_info(url, download=False)\n",
    "#     full_description = info.get(\"description\")\n",
    "# print(full_description)\n",
    "transcript_text = ' '.join([snippet.text for snippet in transcript.snippets[:40]])\n",
    "transcript_text"
   ]
  },
  {
   "cell_type": "code",
   "execution_count": 29,
   "id": "ea413564-8557-43dc-ac74-93873f3c83f4",
   "metadata": {},
   "outputs": [],
   "source": [
    "from typing import List, Dict\n",
    "import re\n",
    "\n",
    "def split_spanish_sentences(text: str) -> List[str]:\n",
    "    # Lightweight Spanish sentence splitter (works well enough for transcripts).\n",
    "    # For higher accuracy use spaCy: es_core_news_sm\n",
    "    text = re.sub(r'\\s+', ' ', text).strip()\n",
    "    # Split on ., !, ? followed by space and a capital letter or end of text\n",
    "    parts = re.split(r'(?<=[\\.\\!\\?])\\s+(?=[A-ZÁÉÍÓÚÑÜ]|$)', text)\n",
    "    # Clean tiny leftovers\n",
    "    return [p.strip() for p in parts if p.strip()]\n",
    "\n",
    "def chunk_by_sentences(\n",
    "    text: str,\n",
    "    target_chars: int = 1000,\n",
    "    overlap_sents: int = 2,\n",
    "    max_chars: int = 1400,   # soft cap to avoid giant chunks when sentences are long\n",
    ") -> List[Dict]:\n",
    "    sents = split_spanish_sentences(text)\n",
    "    chunks = []\n",
    "    buf, buf_len, start_idx = [], 0, 0\n",
    "\n",
    "    i = 0\n",
    "    while i < len(sents):\n",
    "        s = sents[i]\n",
    "        add_len = len(s) + (1 if buf else 0)  # +1 for space\n",
    "        if buf and (buf_len + add_len > max_chars) and buf_len >= target_chars:\n",
    "            # flush chunk\n",
    "            chunk_text = \" \".join(buf)\n",
    "            chunks.append({\"text\": chunk_text})\n",
    "            # prepare overlap\n",
    "            overlap = buf[-overlap_sents:] if overlap_sents > 0 else []\n",
    "            buf = overlap[:]  # start next chunk with overlap\n",
    "            buf_len = len(\" \".join(buf)) if buf else 0\n",
    "            # do not advance i here; we’ll attempt to add s again\n",
    "        else:\n",
    "            # add sentence and advance\n",
    "            if buf:\n",
    "                buf.append(s)\n",
    "                buf_len += add_len\n",
    "            else:\n",
    "                buf = [s]\n",
    "                buf_len = len(s)\n",
    "            i += 1\n",
    "\n",
    "    # flush remainder\n",
    "    if buf:\n",
    "        chunks.append({\"text\": \" \".join(buf)})\n",
    "\n",
    "    return chunks"
   ]
  },
  {
   "cell_type": "code",
   "execution_count": 31,
   "id": "9c73592b-8553-4404-a57e-f5000c7455eb",
   "metadata": {},
   "outputs": [
    {
     "data": {
      "text/plain": [
       "[{'text': 'Colombia es un país mucho más de servicios que campesino. Ahora sigue con una percepción campesina porque seguimos reforzando la gente que el futuro es estar en el campo, que la gente no, el futuro no está en el campo, que es distinto a que Colombia tenga oportunidades agroindustriales muy grandes, que es otra cosa también. Entonces, todo eso es reidentificarnos, una identidad emergente para desde ella abordar la nueva era y jugar a ganar. Alejandro Salazar tiene un doctorado en ingeniería industrial. Ha sido consultor empresarial y autor del libro La estrategia emergente. Acaba de publicar Colombia ganadora, en el que plantea una estrategia emergente para Colombia. ¿Quiere esto decir que el presidente queita este país es argentino? Creo que tenemos la mejor caricatura de Petro. Es un tipo que le busca problemas a las soluciones. Pues eso nos pasa en todos los niveles. Ha pasado, ¿cierto? No, en Bogotá nos pasa en fútbol. Nosotros no sabemos ganar. Siempre nos pasa, César, con selecciones, con clubes, nos pas ¿Cómo es una tortura de partido de fútbol de Colombia? Colombia si puede golear, no golear, mete apenas un golcito y más o menos en el minuto 90, 92 nos empatan o nos ganan. Lo veo en las compañías, a mí me ha tocado ver unas cosas terribles.'},\n",
       " {'text': 'Colombia si puede golear, no golear, mete apenas un golcito y más o menos en el minuto 90, 92 nos empatan o nos ganan. Lo veo en las compañías, a mí me ha tocado ver unas cosas terribles. Una compañía que lleva una década mirabilis y entonces los dueños dicen, \"No, en este momento sí necesitamos un gerente global porque y entonces la coma se la tiran.\" ¿Sí me entiendes?'}]"
      ]
     },
     "execution_count": 31,
     "metadata": {},
     "output_type": "execute_result"
    }
   ],
   "source": [
    "chunk_by_sentences(transcript)"
   ]
  }
 ],
 "metadata": {
  "kernelspec": {
   "display_name": "Python 3 (ipykernel)",
   "language": "python",
   "name": "python3"
  },
  "language_info": {
   "codemirror_mode": {
    "name": "ipython",
    "version": 3
   },
   "file_extension": ".py",
   "mimetype": "text/x-python",
   "name": "python",
   "nbconvert_exporter": "python",
   "pygments_lexer": "ipython3",
   "version": "3.13.1"
  }
 },
 "nbformat": 4,
 "nbformat_minor": 5
}
