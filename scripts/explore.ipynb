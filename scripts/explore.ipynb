{
 "cells": [
  {
   "cell_type": "code",
   "execution_count": 10,
   "id": "ee6ddc31-8947-4cfd-859c-b4f0fa9bc851",
   "metadata": {},
   "outputs": [],
   "source": [
    "from youtube_transcript_api import YouTubeTranscriptApi\n",
    "import yt_dlp\n",
    "\n",
    "ytt_api = YouTubeTranscriptApi()\n",
    "\n",
    "transcript = ytt_api.fetch('c4-DIbtNg54', languages = [\"es\"])"
   ]
  },
  {
   "cell_type": "code",
   "execution_count": 15,
   "id": "045be211-c61e-44d6-a46d-14ac5bc69497",
   "metadata": {},
   "outputs": [
    {
     "name": "stdout",
     "output_type": "stream",
     "text": [
      "['c4-DIbtNg54', 'go6PLP91MwY', 'lRotUPVcc3s', 'piyxMaLdINI', 'v0UOsdpnTiA', 'xDQ5M7btW64', 'woqzqxRVCHg', 'lCHOK0yNjCc', 'z25ANG83TxA', 'H_hS9UeuaW4', 'nw3cayd9C18', '_ZM5MTi9uLI', '3H_EBWz0D4w', 'M0nD4fgRTsU', 'YhBlPtfGPj4', '9j-QWPMrDhE', 'h40GjfT6ju4', 'HvMIUIF1pHE', 'mPUr6EbZYio', 'v6PpZXlvlH0', '7LD-qvdpHpY', 'SlUryhAHQFI', 'DLKVvlvZZnI', '3eL3wDthCFs', 'KPAscJ6UPek', 'cdWgzqExoa4', 'I1qlJjH9a2s', 'u8QQHYcSvxw', 'yod8trQu59Y', 'r2qpd0TXIa8', 'ngUeXw4wt_M', 'FCQJW5uHvKM', 'qLsy5WCErqw', '_3Ru-34DZyQ', 'mGEkj8porRc', 'yxe7QXEp-ek', '6Uf8NpTmG2c', 'Sh-oa9Ke85o', 'GTSjB4jxTaE', 'qEoftybsMsc', 'RaiWpMxcXv4', 'BQVvnlqwCVs', '6qGbUwDDZWI', 'YnhoN0JEfZo', 'tFke2DHYRS4', 'ohNd-tcrNdo', 'dn6pcctcxWs', '8-XQtwZPowY', 'Pll6UggmPIw', 'qXx5Gykxs4w', 'rQ7HDNqqZ4U', 'rChMRllH72g', 'me_LTZYaWVo', 'KzPzRkd-1rU', 'KNzjq_EncJ4', 'r3CpbRj3vRE', 'Gz_T3oRFZvM', 'ikxZUt168Ts', 'nWHwdasWa2k', 'GQFC18vHlZY', 'hYct7e-PtXg', 'Se-PDh45Wgo', '46EwUiD8EuM', '35KfH5P3bI8', '0LosPaoN-gM', 'yNGUjJnE8g0', '2pMe0re-GkI', 'pdcH49xGk_c', 'amhNeoiya6Q', 'gFVb2GcZaHI', 'TN_OzkRKnNM', '3xNIm3cMOsQ', 'dCxteNLUcCs', 'mikcJQZ1-8w', 'wdiHgiuB4Ss', 'XPdrE1TRmfg', 'yK6cqNkeWTQ', '809f0sUrLbk', 'QD49GuRt1jg', 'BJ-qHxMftVg', 'QWlv1WBdv7c', 'eN6QX-qR-Dw', 'BonhOFe5zDs', 'NRU7BqKc2U4', 'fUYSKh3breU', 'GQ7U0ZUOjuc', 'VAtz68hnryg', '5Crzg9tRqkc', 'fMgpoc72x_U', '2kn9jxyqQ9Y', 'uyYJxoquPuE', 'tyM0ofJNIeU', 'pngHMVRh8WE', 'rT48Bo6ZY6k', 'ZuRrtYtj0Ss', 'D-x2iF4CAoc', 'OXVOJQ_IalQ', 'COBctyoXVzM', 'EaE2QA-Pstg', '2k3km9ohB20', '2PoAExwzLjs', 'pymDBQA7-Ng', 'mb5XLBlyvvg', 'a87YgUci2Lw', '_mQSSzrC9Xc', 'wDJ9PhDdMH4', '0GRBzjfQpvk', 'pZMEVVm-LxM', 'HFxtos5NO7s', '6y8nVijYJPQ', 'tSaG7vOGZ1Y', 'HWEMyWBug3Y', 'ChdgWIEgIdY', 'rLhHMDbEsb4', 'bEwaoGGHr34', 'rY78xhy2YzQ', '6VmmfB06SFg', '47Q-7X1Up_s', 'zytxb6s42qU', 'xBw6UGycgzM', '-yXD16lU03I', 'eMngoBp32mQ', 'VGVSMbfV-cU', 'AnsrcjWNU7U', 'vznd5k1DZyA', '9fJ_qS9ULIE', 'giETKHKixr0', 'HOhXbkp8SIk', 'WtWmIMC7ewI', 'gYKe-AfJsE0', 'mtxvxvkfa04', 'iPjkQjBVNPE', 'dUaREyEWuLQ', 'ZUepbhU_vbg', 'ZUF9qhzxUTA', 'uXWcgjwISMY', 'Tk2bjncMMxI', 'ucOxVhymeRA', 'JZ_P_rmz00g', 'sKriDomkVRc', 'Uw-0mLJKgYI', 'spXq2D1fie4', 'nuz7rUbVkqg', '_s9LPKfN-co', 'XCkm-Hu5hTo', '5aOLZ4jE50s', 'sgDAlbQj5cE', 'E9oN-TZj7yc', '7pwj5gpUrYw', 'Aw-J0SPPGzk', 'eUQ51_aft0A', 'thuEIVKlG9g', 'IsyS8SCZK6E', 'Rsdlers2yxs', '8PmngSi-lDI', '6jUmVoktqKU', 'XhjHI_L_luo', '8amh9ZZqUW4', 'TU5UJoycGns', 'OTscAIyDIW0', 'yqNcOzR0yTA', 'mkTe4457qbo', '2IGdPOB-xbc']\n"
     ]
    },
    {
     "data": {
      "text/plain": [
       "4152"
      ]
     },
     "execution_count": 15,
     "metadata": {},
     "output_type": "execute_result"
    }
   ],
   "source": [
    "\n",
    "# ' '.join([t.text for t in transcript.snippets])\n",
    "# transcript.snippets[0]\n",
    "\n",
    "channel_url='https://www.youtube.com/@atemporalpodcast/videos'\n",
    "\n",
    "ydl_opts = {\n",
    "    \"quiet\": True,\n",
    "    \"extract_flat\": True,   # don't download, just get metadata\n",
    "    \"skip_download\": True,\n",
    "}\n",
    "\n",
    "with yt_dlp.YoutubeDL(ydl_opts) as ydl:\n",
    "    info = ydl.extract_info(channel_url, download=False)\n",
    "\n",
    "    # Depending on URL, you may need /videos\n",
    "    # info[\"entries\"] contains all videos in the channel\n",
    "    video_ids = [entry[\"id\"] for entry in info[\"entries\"] if entry.get(\"id\")]\n",
    "    print(video_ids)\n",
    "\n",
    "len(transcript)"
   ]
  },
  {
   "cell_type": "code",
   "execution_count": 14,
   "id": "ea413564-8557-43dc-ac74-93873f3c83f4",
   "metadata": {},
   "outputs": [
    {
     "data": {
      "text/plain": [
       "163"
      ]
     },
     "execution_count": 14,
     "metadata": {},
     "output_type": "execute_result"
    }
   ],
   "source": [
    "len(video_ids)"
   ]
  }
 ],
 "metadata": {
  "kernelspec": {
   "display_name": "Python 3 (ipykernel)",
   "language": "python",
   "name": "python3"
  },
  "language_info": {
   "codemirror_mode": {
    "name": "ipython",
    "version": 3
   },
   "file_extension": ".py",
   "mimetype": "text/x-python",
   "name": "python",
   "nbconvert_exporter": "python",
   "pygments_lexer": "ipython3",
   "version": "3.13.1"
  }
 },
 "nbformat": 4,
 "nbformat_minor": 5
}
